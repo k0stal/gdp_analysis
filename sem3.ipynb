{
 "cells": [
  {
   "cell_type": "code",
   "execution_count": 221,
   "metadata": {
    "vscode": {
     "languageId": "r"
    }
   },
   "outputs": [],
   "source": [
    "library(ggplot2)\n",
    "library(corrplot)\n",
    "library(vtable)\n",
    "library(cowplot)\n",
    "library(moments)\n",
    "library(Sleuth2)\n",
    "library(e1071)\n",
    "library(stringr)\n",
    "library(car)\n",
    "library(MASS)\n",
    "library(sfsmisc)\n",
    "library(eurostat)\n",
    "library(report)"
   ]
  },
  {
   "cell_type": "markdown",
   "metadata": {},
   "source": [
    "## Analýza hrubého domácího produktu evropských zemí v roce 2021."
   ]
  },
  {
   "cell_type": "markdown",
   "metadata": {},
   "source": [
    "Nejprve načteme dataset a provedeme výběr dat z roku 2021 dle zadání. <br>\n",
    "Ponecháme si jen sloupce geo a values. Values dále přejmenujeme na gdp."
   ]
  },
  {
   "cell_type": "code",
   "execution_count": 222,
   "metadata": {},
   "outputs": [
    {
     "name": "stderr",
     "output_type": "stream",
     "text": [
      "Dataset query already saved in cache_list.json...\n",
      "\n",
      "Reading cache file C:\\Users\\lukas\\AppData\\Local\\Temp\\RtmpUF0vQm/eurostat/11b065fd45a1428b085c6e9d6e760f22.rds\n",
      "\n",
      "Table  nama_10_pc  read from cache file:  C:\\Users\\lukas\\AppData\\Local\\Temp\\RtmpUF0vQm/eurostat/11b065fd45a1428b085c6e9d6e760f22.rds\n",
      "\n"
     ]
    }
   ],
   "source": [
    "df <- get_eurostat(\"nama_10_pc\")\n",
    "\n",
    "df <- df[df$na_item == \"B1GQ\", ]\n",
    "df <- df[df$unit == \"CP_EUR_HAB\", ]\n",
    "df <- subset(df, format(as.Date(df$TIME_PERIOD), \"%Y\") == 2021)\n",
    "df <- df[-c(1, 1:3)]\n",
    "df <- df[-c(2)]\n",
    "colnames(df) <- c(\"geo\", \"gdp\")"
   ]
  },
  {
   "cell_type": "markdown",
   "metadata": {},
   "source": [
    "### Úloha 1"
   ]
  },
  {
   "cell_type": "markdown",
   "metadata": {},
   "source": [
    "Nejprve prozkoumejme, jaká data náš dataset obsahuje."
   ]
  },
  {
   "cell_type": "code",
   "execution_count": 223,
   "metadata": {
    "vscode": {
     "languageId": "r"
    }
   },
   "outputs": [
    {
     "data": {
      "text/html": [
       "<table class=\"dataframe\">\n",
       "<caption>A tibble: 15 × 2</caption>\n",
       "<thead>\n",
       "\t<tr><th scope=col>geo</th><th scope=col>gdp</th></tr>\n",
       "\t<tr><th scope=col>&lt;chr&gt;</th><th scope=col>&lt;dbl&gt;</th></tr>\n",
       "</thead>\n",
       "<tbody>\n",
       "\t<tr><td>AL  </td><td> 5390</td></tr>\n",
       "\t<tr><td>AT  </td><td>45270</td></tr>\n",
       "\t<tr><td>BE  </td><td>43850</td></tr>\n",
       "\t<tr><td>BG  </td><td>10330</td></tr>\n",
       "\t<tr><td>CH  </td><td>78990</td></tr>\n",
       "\t<tr><td>CY  </td><td>27690</td></tr>\n",
       "\t<tr><td>CZ  </td><td>22270</td></tr>\n",
       "\t<tr><td>DE  </td><td>43480</td></tr>\n",
       "\t<tr><td>DK  </td><td>58590</td></tr>\n",
       "\t<tr><td>EA  </td><td>36180</td></tr>\n",
       "\t<tr><td>EA12</td><td>36880</td></tr>\n",
       "\t<tr><td>EA19</td><td>36180</td></tr>\n",
       "\t<tr><td>EA20</td><td>35940</td></tr>\n",
       "\t<tr><td>EE  </td><td>23430</td></tr>\n",
       "\t<tr><td>EL  </td><td>17060</td></tr>\n",
       "</tbody>\n",
       "</table>\n"
      ],
      "text/latex": [
       "A tibble: 15 × 2\n",
       "\\begin{tabular}{ll}\n",
       " geo & gdp\\\\\n",
       " <chr> & <dbl>\\\\\n",
       "\\hline\n",
       "\t AL   &  5390\\\\\n",
       "\t AT   & 45270\\\\\n",
       "\t BE   & 43850\\\\\n",
       "\t BG   & 10330\\\\\n",
       "\t CH   & 78990\\\\\n",
       "\t CY   & 27690\\\\\n",
       "\t CZ   & 22270\\\\\n",
       "\t DE   & 43480\\\\\n",
       "\t DK   & 58590\\\\\n",
       "\t EA   & 36180\\\\\n",
       "\t EA12 & 36880\\\\\n",
       "\t EA19 & 36180\\\\\n",
       "\t EA20 & 35940\\\\\n",
       "\t EE   & 23430\\\\\n",
       "\t EL   & 17060\\\\\n",
       "\\end{tabular}\n"
      ],
      "text/markdown": [
       "\n",
       "A tibble: 15 × 2\n",
       "\n",
       "| geo &lt;chr&gt; | gdp &lt;dbl&gt; |\n",
       "|---|---|\n",
       "| AL   |  5390 |\n",
       "| AT   | 45270 |\n",
       "| BE   | 43850 |\n",
       "| BG   | 10330 |\n",
       "| CH   | 78990 |\n",
       "| CY   | 27690 |\n",
       "| CZ   | 22270 |\n",
       "| DE   | 43480 |\n",
       "| DK   | 58590 |\n",
       "| EA   | 36180 |\n",
       "| EA12 | 36880 |\n",
       "| EA19 | 36180 |\n",
       "| EA20 | 35940 |\n",
       "| EE   | 23430 |\n",
       "| EL   | 17060 |\n",
       "\n"
      ],
      "text/plain": [
       "   geo  gdp  \n",
       "1  AL    5390\n",
       "2  AT   45270\n",
       "3  BE   43850\n",
       "4  BG   10330\n",
       "5  CH   78990\n",
       "6  CY   27690\n",
       "7  CZ   22270\n",
       "8  DE   43480\n",
       "9  DK   58590\n",
       "10 EA   36180\n",
       "11 EA12 36880\n",
       "12 EA19 36180\n",
       "13 EA20 35940\n",
       "14 EE   23430\n",
       "15 EL   17060"
      ]
     },
     "metadata": {},
     "output_type": "display_data"
    }
   ],
   "source": [
    "head(df, 15)"
   ]
  },
  {
   "cell_type": "markdown",
   "metadata": {},
   "source": [
    "Můžeme si povšimnout, že obsahuje údaje nejen o jednotlivých zemích, ale také o různých celcích. <br>\n",
    "Informace o celku jsou pro nás nepotřebné, proto je zahodíme."
   ]
  },
  {
   "cell_type": "code",
   "execution_count": 224,
   "metadata": {
    "vscode": {
     "languageId": "r"
    }
   },
   "outputs": [],
   "source": [
    "df <- df[df$geo != \"EA12\", ]\n",
    "df <- df[df$geo != \"EA19\", ]\n",
    "df <- df[df$geo != \"EA20\", ]\n",
    "df <- df[df$geo != \"EA\", ]\n",
    "df <- df[df$geo != \"EU27_2020\", ]"
   ]
  },
  {
   "cell_type": "code",
   "execution_count": 225,
   "metadata": {
    "vscode": {
     "languageId": "r"
    }
   },
   "outputs": [],
   "source": [
    "df$geo <- as.factor((df$geo))"
   ]
  },
  {
   "cell_type": "markdown",
   "metadata": {},
   "source": [
    "Pomocí summary získáme přehled o HDP v EU."
   ]
  },
  {
   "cell_type": "code",
   "execution_count": 226,
   "metadata": {
    "vscode": {
     "languageId": "r"
    }
   },
   "outputs": [
    {
     "data": {
      "text/plain": [
       "   Min. 1st Qu.  Median    Mean 3rd Qu.    Max. \n",
       "   5390   15670   25300   37202   46365  164150 "
      ]
     },
     "metadata": {},
     "output_type": "display_data"
    }
   ],
   "source": [
    "summary(df$gdp)"
   ]
  },
  {
   "cell_type": "markdown",
   "metadata": {},
   "source": [
    "Dále náš pročištěný dataset zobrazíme.<br>\n",
    "Nejprve pro celou EU v podobě Box a Violin plotu.<br>"
   ]
  },
  {
   "cell_type": "code",
   "execution_count": 227,
   "metadata": {
    "vscode": {
     "languageId": "r"
    }
   },
   "outputs": [
    {
     "data": {
      "image/png": "[encoded data removed]",
      "text/plain": [
       "plot without title"
      ]
     },
     "metadata": {
      "image/png": {
       "height": 480,
       "width": 1500
      }
     },
     "output_type": "display_data"
    }
   ],
   "source": [
    "options(width = 70, repr.plot.width = 25, repr.plot.height = 8)\n",
    "\n",
    "p1 <- ggplot(df, aes(x = gdp)) + scale_x_continuous(breaks = scales::pretty_breaks(n = 15)) + scale_y_continuous(breaks = scales::breaks_pretty(n = 0)) +\n",
    "  geom_boxplot(outlier.color = \"red\", show.legend = FALSE) + ggtitle(\"Europe GDP\")\n",
    "\n",
    "p1 <- p1 + theme( \n",
    "  plot.title = element_text(color=\"black\", size=20, face=\"bold.italic\"),\n",
    "  text = element_text(size = 15)\n",
    ")\n",
    "\n",
    "plot_grid(p1, nrow = 1, rel_widths = 0.5)"
   ]
  },
  {
   "cell_type": "code",
   "execution_count": 228,
   "metadata": {
    "vscode": {
     "languageId": "r"
    }
   },
   "outputs": [
    {
     "data": {
      "image/png": "[encoded data removed]",
      "text/plain": [
       "plot without title"
      ]
     },
     "metadata": {
      "image/png": {
       "height": 480,
       "width": 1500
      }
     },
     "output_type": "display_data"
    }
   ],
   "source": [
    "p1 <- ggplot(df, aes(y = 0, x = gdp)) + scale_x_continuous(breaks = scales::pretty_breaks(n = 15)) + scale_y_continuous(breaks = scales::breaks_pretty(n = 0)) +\n",
    "  geom_violin( show.legend = FALSE, trim = FALSE) + ggtitle(\"Europe GDP\")\n",
    "\n",
    "p1 <- p1 + theme( \n",
    "  plot.title = element_text(color=\"black\", size=20, face=\"bold.italic\"),\n",
    "  text = element_text(size = 15)\n",
    ")\n",
    "\n",
    "plot_grid(p1, nrow = 1, rel_widths = 0.5)"
   ]
  },
  {
   "cell_type": "markdown",
   "metadata": {},
   "source": [
    "Dále zobrazíme HDP podle státu."
   ]
  },
  {
   "cell_type": "code",
   "execution_count": 229,
   "metadata": {
    "vscode": {
     "languageId": "r"
    }
   },
   "outputs": [
    {
     "data": {
      "image/png": "[encoded data removed]",
      "text/plain": [
       "plot without title"
      ]
     },
     "metadata": {
      "image/png": {
       "height": 720,
       "width": 1800
      }
     },
     "output_type": "display_data"
    }
   ],
   "source": [
    "options(width = 80, repr.plot.width = 30, repr.plot.height = 12)\n",
    "\n",
    "p2 <- ggplot(df, aes(x = reorder(geo,-gdp,sum), y = gdp, fill = geo)) + geom_col() + ggtitle(\"GDP per country\") + scale_y_continuous(breaks = scales::breaks_pretty(n = 15)) + labs(x = \"geo\")\n",
    "\n",
    "p2 <- p2 + theme( \n",
    "  plot.title = element_text(color=\"black\", size=20, face=\"bold.italic\"),\n",
    "  text = element_text(size = 15)\n",
    "\n",
    ")\n",
    "\n",
    "pg <- plot_grid(p2 + theme(legend.position = \"none\"),\n",
    "                nrow = 1)\n",
    "\n",
    "plot_grid(pg, rel_widths = c(2, .2))"
   ]
  },
  {
   "cell_type": "markdown",
   "metadata": {},
   "source": [
    "### Úloha 2"
   ]
  },
  {
   "cell_type": "markdown",
   "metadata": {},
   "source": [
    "Jako údaje, které podle nás mohou s HDP souviset jsme vybrali tyto: <br>\n",
    "věk, politické zřízení, využití internetu a R&D (množství prostředků, které jsou v dané zemi vynaloženy na vývoj) <br>\n",
    "Dále tyto údaje získáme."
   ]
  },
  {
   "cell_type": "markdown",
   "metadata": {},
   "source": [
    "#### Dataframe o věku"
   ]
  },
  {
   "cell_type": "markdown",
   "metadata": {},
   "source": [
    "Pro zpracování tohoto datasetu volíme postup téměř analogický s přípravou datasetu předchozího."
   ]
  },
  {
   "cell_type": "code",
   "execution_count": 230,
   "metadata": {
    "vscode": {
     "languageId": "r"
    }
   },
   "outputs": [
    {
     "name": "stderr",
     "output_type": "stream",
     "text": [
      "Dataset query already saved in cache_list.json...\n",
      "\n",
      "Reading cache file C:\\Users\\lukas\\AppData\\Local\\Temp\\RtmpUF0vQm/eurostat/4081099d4993281420610b0645bac26e.rds\n",
      "\n",
      "Table  hlth_hlye  read from cache file:  C:\\Users\\lukas\\AppData\\Local\\Temp\\RtmpUF0vQm/eurostat/4081099d4993281420610b0645bac26e.rds\n",
      "\n"
     ]
    }
   ],
   "source": [
    "dfAge <- get_eurostat(\"hlth_hlye\")"
   ]
  },
  {
   "cell_type": "markdown",
   "metadata": {},
   "source": [
    "Vybíráme hodnoty pro rok 2021, které vystihují předpoklad dožití nezávisle na pohlaví."
   ]
  },
  {
   "cell_type": "code",
   "execution_count": 231,
   "metadata": {
    "vscode": {
     "languageId": "r"
    }
   },
   "outputs": [],
   "source": [
    "dfAge <- subset(dfAge, format(as.Date(dfAge$TIME_PERIOD), \"%Y\") == 2021)\n",
    "dfAge <- dfAge[dfAge$unit == \"YR\", ]\n",
    "dfAge <- dfAge[dfAge$sex == \"T\", ]\n",
    "dfAge <- dfAge[dfAge$indic_he == \"LE_0\", ]"
   ]
  },
  {
   "cell_type": "code",
   "execution_count": 232,
   "metadata": {
    "vscode": {
     "languageId": "r"
    }
   },
   "outputs": [],
   "source": [
    "dfAge$geo <- as.factor((dfAge$geo))\n",
    "\n",
    "dfAge <- dfAge[-c(1,1:4)]\n",
    "dfAge <- dfAge[-c(2)]\n",
    "\n",
    "colnames(dfAge) <- c(\"geo\", \"life_expectancy\")\n",
    "temp <- merge(df, dfAge, by = \"geo\")"
   ]
  },
  {
   "cell_type": "markdown",
   "metadata": {},
   "source": [
    "Získané informace vizualizujeme podle země."
   ]
  },
  {
   "cell_type": "code",
   "execution_count": 233,
   "metadata": {
    "vscode": {
     "languageId": "r"
    }
   },
   "outputs": [
    {
     "data": {
      "image/png": "[encoded data removed]",
      "text/plain": [
       "plot without title"
      ]
     },
     "metadata": {
      "image/png": {
       "height": 780,
       "width": 1200
      }
     },
     "output_type": "display_data"
    }
   ],
   "source": [
    "options(repr.plot.width = 20, repr.plot.height = 13)\n",
    "\n",
    "p2 <- ggplot(temp, aes(x = reorder(geo,-life_expectancy,sum), y = life_expectancy, fill = geo)) + geom_col() + ggtitle(\"Life expectancy per country\") + scale_y_continuous(breaks = scales::breaks_pretty(n = 15)) + labs(x = \"geo\")\n",
    "\n",
    "p2 <- p2 + theme( \n",
    "  plot.title = element_text(color=\"black\", size=20, face=\"bold.italic\"),\n",
    "  text = element_text(size = 15)\n",
    "\n",
    ")\n",
    "\n",
    "pg <- plot_grid(p2 + theme(legend.position = \"none\"),\n",
    "                nrow = 1)\n",
    "\n",
    "plot_grid(pg, rel_widths = c(2, .2))"
   ]
  },
  {
   "cell_type": "markdown",
   "metadata": {},
   "source": [
    "Otestujeme, jaká je lineární závislost mezi HDP a LE. Položíme:<br>\n",
    "**H0:** Koeficient LE je roven 0<br>\n",
    "**HA:** Koeficient LE je nenulový"
   ]
  },
  {
   "cell_type": "code",
   "execution_count": 234,
   "metadata": {
    "vscode": {
     "languageId": "r"
    }
   },
   "outputs": [
    {
     "data": {
      "text/plain": [
       "\n",
       "Call:\n",
       "lm(formula = gdp ~ life_expectancy, data = temp)\n",
       "\n",
       "Residuals:\n",
       "   Min     1Q Median     3Q    Max \n",
       "-28256 -12647   -752   6523  61433 \n",
       "\n",
       "Coefficients:\n",
       "                 Estimate Std. Error t value Pr(>|t|)    \n",
       "(Intercept)     -310927.2    75458.0  -4.121 0.000304 ***\n",
       "life_expectancy    4381.6      946.6   4.629 7.65e-05 ***\n",
       "---\n",
       "Signif. codes:  0 '***' 0.001 '**' 0.01 '*' 0.05 '.' 0.1 ' ' 1\n",
       "\n",
       "Residual standard error: 19360 on 28 degrees of freedom\n",
       "Multiple R-squared:  0.4335,\tAdjusted R-squared:  0.4133 \n",
       "F-statistic: 21.43 on 1 and 28 DF,  p-value: 7.646e-05\n"
      ]
     },
     "metadata": {},
     "output_type": "display_data"
    }
   ],
   "source": [
    "res <- lm(gdp ~ life_expectancy, data = temp)\n",
    "summary(res)"
   ]
  },
  {
   "cell_type": "markdown",
   "metadata": {},
   "source": [
    "Zamítáme H0 ve prospěch HA.<br>\n",
    "Předpokládáme tedy, že LE bude s HDP souviset."
   ]
  },
  {
   "cell_type": "markdown",
   "metadata": {},
   "source": [
    "#### Dataframe o politickém systému"
   ]
  },
  {
   "cell_type": "markdown",
   "metadata": {},
   "source": [
    "Dále získáme data o politickém zřízení."
   ]
  },
  {
   "cell_type": "code",
   "execution_count": 235,
   "metadata": {
    "vscode": {
     "languageId": "r"
    }
   },
   "outputs": [],
   "source": [
    "dfPoliticalSystem <- read.csv(\"systems.csv\")"
   ]
  },
  {
   "cell_type": "code",
   "execution_count": 236,
   "metadata": {
    "vscode": {
     "languageId": "r"
    }
   },
   "outputs": [],
   "source": [
    "dfPoliticalSystem$geo <- as.factor((dfPoliticalSystem$geo))\n",
    "\n",
    "dfPoliticalSystem <- dfPoliticalSystem[-c(2)]"
   ]
  },
  {
   "cell_type": "code",
   "execution_count": 237,
   "metadata": {
    "vscode": {
     "languageId": "r"
    }
   },
   "outputs": [],
   "source": [
    "dfPoliticalSystem$system <- as.factor(dfPoliticalSystem$system)\n",
    "dfPoliticalSystem$geo <- as.factor(dfPoliticalSystem$geo)\n",
    "temp <- merge(df, dfPoliticalSystem, by = \"geo\")\n"
   ]
  },
  {
   "cell_type": "markdown",
   "metadata": {},
   "source": [
    "Po provedení počátečních úprav získáváme dataset, který má následující podobu:"
   ]
  },
  {
   "cell_type": "code",
   "execution_count": 238,
   "metadata": {
    "scrolled": true,
    "vscode": {
     "languageId": "r"
    }
   },
   "outputs": [
    {
     "data": {
      "text/html": [
       "<table class=\"dataframe\">\n",
       "<caption>A data.frame: 6 × 2</caption>\n",
       "<thead>\n",
       "\t<tr><th></th><th scope=col>geo</th><th scope=col>system</th></tr>\n",
       "\t<tr><th></th><th scope=col>&lt;fct&gt;</th><th scope=col>&lt;fct&gt;</th></tr>\n",
       "</thead>\n",
       "<tbody>\n",
       "\t<tr><th scope=row>1</th><td>AL</td><td>Republic</td></tr>\n",
       "\t<tr><th scope=row>2</th><td>AD</td><td>Monarchy</td></tr>\n",
       "\t<tr><th scope=row>3</th><td>AM</td><td>Republic</td></tr>\n",
       "\t<tr><th scope=row>4</th><td>AT</td><td>Republic</td></tr>\n",
       "\t<tr><th scope=row>5</th><td>BY</td><td>Republic</td></tr>\n",
       "\t<tr><th scope=row>6</th><td>BE</td><td>Monarchy</td></tr>\n",
       "</tbody>\n",
       "</table>\n"
      ],
      "text/latex": [
       "A data.frame: 6 × 2\n",
       "\\begin{tabular}{r|ll}\n",
       "  & geo & system\\\\\n",
       "  & <fct> & <fct>\\\\\n",
       "\\hline\n",
       "\t1 & AL & Republic\\\\\n",
       "\t2 & AD & Monarchy\\\\\n",
       "\t3 & AM & Republic\\\\\n",
       "\t4 & AT & Republic\\\\\n",
       "\t5 & BY & Republic\\\\\n",
       "\t6 & BE & Monarchy\\\\\n",
       "\\end{tabular}\n"
      ],
      "text/markdown": [
       "\n",
       "A data.frame: 6 × 2\n",
       "\n",
       "| <!--/--> | geo &lt;fct&gt; | system &lt;fct&gt; |\n",
       "|---|---|---|\n",
       "| 1 | AL | Republic |\n",
       "| 2 | AD | Monarchy |\n",
       "| 3 | AM | Republic |\n",
       "| 4 | AT | Republic |\n",
       "| 5 | BY | Republic |\n",
       "| 6 | BE | Monarchy |\n",
       "\n"
      ],
      "text/plain": [
       "  geo system  \n",
       "1 AL  Republic\n",
       "2 AD  Monarchy\n",
       "3 AM  Republic\n",
       "4 AT  Republic\n",
       "5 BY  Republic\n",
       "6 BE  Monarchy"
      ]
     },
     "metadata": {},
     "output_type": "display_data"
    }
   ],
   "source": [
    "head(dfPoliticalSystem)"
   ]
  },
  {
   "cell_type": "markdown",
   "metadata": {},
   "source": [
    "Celkový výčet politických zřízení dále vizualizujeme."
   ]
  },
  {
   "cell_type": "code",
   "execution_count": 239,
   "metadata": {
    "vscode": {
     "languageId": "r"
    }
   },
   "outputs": [
    {
     "data": {
      "image/png": "[encoded data removed]",
      "text/plain": [
       "plot without title"
      ]
     },
     "metadata": {
      "image/png": {
       "height": 780,
       "width": 900
      }
     },
     "output_type": "display_data"
    }
   ],
   "source": [
    "options(repr.plot.width = 15, repr.plot.height = 13)\n",
    "\n",
    "p2 <- ggplot(temp, aes(x = system)) + geom_bar() + ggtitle(\"System distribution\") + scale_y_continuous(breaks = scales::breaks_pretty(n = 15)) \n",
    "\n",
    "p2 <- p2 + theme( \n",
    "  plot.title = element_text(color=\"black\", size=20, face=\"bold.italic\"),\n",
    "  text = element_text(size = 15)\n",
    "\n",
    ")\n",
    "\n",
    "pg <- plot_grid(p2 + theme(legend.position = \"none\"),\n",
    "                nrow = 1)\n",
    "\n",
    "plot_grid(pg, rel_widths = c(2, .2))"
   ]
  },
  {
   "cell_type": "markdown",
   "metadata": {},
   "source": [
    "Dále provedeme test anova, neboli analýzu roztpylu podle skupin. Položíme:<br>\n",
    "**H0:** Střední hodnoty HDP jsou u všech kategorií stejné<br>\n",
    "**HA:** Střední hodnoty HDP se neshodují"
   ]
  },
  {
   "cell_type": "code",
   "execution_count": 240,
   "metadata": {
    "vscode": {
     "languageId": "r"
    }
   },
   "outputs": [
    {
     "name": "stdout",
     "output_type": "stream",
     "text": [
      "The ANOVA (formula: gdp ~ system) suggests that:\n",
      "\n",
      "  - The main effect of system is statistically significant and large (F(1, 34) =\n",
      "17.48, p < .001; Eta2 = 0.34, 95% CI [0.14, 1.00])\n",
      "\n",
      "Effect sizes were labelled following Field's (2013) recommendations.\n"
     ]
    }
   ],
   "source": [
    "res_aov <- aov(gdp ~ system, data = temp)\n",
    "print(report(res_aov))"
   ]
  },
  {
   "cell_type": "markdown",
   "metadata": {},
   "source": [
    "Vzhledem k p-hodnotě se přikláníme k alternativě. <br>\n",
    "Střední hodnoty u jednotlivých kategorií jsou tedy významně různé, tím pádem politické zřízení může mít na HDP vliv."
   ]
  },
  {
   "cell_type": "markdown",
   "metadata": {},
   "source": [
    "#### Dataframe o využíváni Internetu"
   ]
  },
  {
   "cell_type": "markdown",
   "metadata": {},
   "source": [
    "Analogicky k datasetu z úlohy 1 připravíme i dataset o využívání internetu..."
   ]
  },
  {
   "cell_type": "code",
   "execution_count": 241,
   "metadata": {
    "vscode": {
     "languageId": "r"
    }
   },
   "outputs": [
    {
     "name": "stderr",
     "output_type": "stream",
     "text": [
      "Dataset query already saved in cache_list.json...\n",
      "\n",
      "Reading cache file C:\\Users\\lukas\\AppData\\Local\\Temp\\RtmpUF0vQm/eurostat/7db07f15e82a1490a0056538c20a81eb.rds\n",
      "\n",
      "Table  isoc_ci_ifp_iu  read from cache file:  C:\\Users\\lukas\\AppData\\Local\\Temp\\RtmpUF0vQm/eurostat/7db07f15e82a1490a0056538c20a81eb.rds\n",
      "\n"
     ]
    }
   ],
   "source": [
    "dfInternet <- get_eurostat(\"isoc_ci_ifp_iu\")"
   ]
  },
  {
   "cell_type": "markdown",
   "metadata": {},
   "source": [
    "Procento ze všech občanů, který v posledních 3 měsících využili internet."
   ]
  },
  {
   "cell_type": "code",
   "execution_count": 242,
   "metadata": {
    "vscode": {
     "languageId": "r"
    }
   },
   "outputs": [],
   "source": [
    "dfInternet <- subset(dfInternet, format(as.Date(dfInternet$TIME_PERIOD), \"%Y\") == 2021)\n",
    "dfInternet <- dfInternet[dfInternet$indic_is == \"I_IU3\", ]\n",
    "dfInternet <- dfInternet[dfInternet$unit == \"PC_IND\", ]\n",
    "dfInternet <- dfInternet[dfInternet$ind_type == \"IND_TOTAL\", ]"
   ]
  },
  {
   "cell_type": "code",
   "execution_count": 243,
   "metadata": {
    "vscode": {
     "languageId": "r"
    }
   },
   "outputs": [],
   "source": [
    "dfInternet$geo <- as.factor((dfInternet$geo))\n",
    "\n",
    "dfInternet <- dfInternet[-c(1:4)]\n",
    "dfInternet <- dfInternet[-c(2)]\n",
    "\n",
    "colnames(dfInternet) <- c(\"geo\", \"internet_usage\")\n",
    "temp <- merge(df, dfInternet, by = \"geo\")"
   ]
  },
  {
   "cell_type": "markdown",
   "metadata": {},
   "source": [
    "Získáme přehled a vizualizujeme..."
   ]
  },
  {
   "cell_type": "code",
   "execution_count": 244,
   "metadata": {
    "vscode": {
     "languageId": "r"
    }
   },
   "outputs": [
    {
     "data": {
      "text/plain": [
       "   Min. 1st Qu.  Median    Mean 3rd Qu.    Max. \n",
       "  75.27   82.63   89.00   88.93   93.62   99.44 "
      ]
     },
     "metadata": {},
     "output_type": "display_data"
    }
   ],
   "source": [
    "summary(dfInternet$internet_usage)"
   ]
  },
  {
   "cell_type": "code",
   "execution_count": 245,
   "metadata": {
    "vscode": {
     "languageId": "r"
    }
   },
   "outputs": [
    {
     "data": {
      "image/png": "[encoded data removed]",
      "text/plain": [
       "plot without title"
      ]
     },
     "metadata": {
      "image/png": {
       "height": 780,
       "width": 1200
      }
     },
     "output_type": "display_data"
    }
   ],
   "source": [
    "options(repr.plot.width = 20, repr.plot.height = 13)\n",
    "\n",
    "p2 <- ggplot(temp, aes(x = reorder(geo,-internet_usage,sum), y = internet_usage, fill = geo)) + geom_col() + ggtitle(\"Internet usage per country in percentage\") + scale_y_continuous(breaks = scales::breaks_pretty(n = 15)) + labs(x = \"geo\")\n",
    "\n",
    "p2 <- p2 + theme( \n",
    "  plot.title = element_text(color=\"black\", size=20, face=\"bold.italic\"),\n",
    "  text = element_text(size = 15)\n",
    "\n",
    ")\n",
    "\n",
    "pg <- plot_grid(p2 + theme(legend.position = \"none\"),\n",
    "                nrow = 1)\n",
    "\n",
    "plot_grid(pg, rel_widths = c(2, .2))"
   ]
  },
  {
   "cell_type": "markdown",
   "metadata": {},
   "source": [
    "Ověříme lineární závislost HDP na využití internetu. Položíme:<br>\n",
    "**H0:** Koeficient využití je roven 0<br>\n",
    "**HA:** Koeficient využití je nenulový"
   ]
  },
  {
   "cell_type": "code",
   "execution_count": 246,
   "metadata": {
    "vscode": {
     "languageId": "r"
    }
   },
   "outputs": [
    {
     "data": {
      "text/plain": [
       "\n",
       "Call:\n",
       "lm(formula = gdp ~ internet_usage, data = temp)\n",
       "\n",
       "Residuals:\n",
       "   Min     1Q Median     3Q    Max \n",
       "-22097  -8927  -3332   4713  50290 \n",
       "\n",
       "Coefficients:\n",
       "                Estimate Std. Error t value Pr(>|t|)    \n",
       "(Intercept)    -242557.8    33720.8  -7.193 3.03e-08 ***\n",
       "internet_usage    3092.7      376.6   8.212 1.75e-09 ***\n",
       "---\n",
       "Signif. codes:  0 '***' 0.001 '**' 0.01 '*' 0.05 '.' 0.1 ' ' 1\n",
       "\n",
       "Residual standard error: 15000 on 33 degrees of freedom\n",
       "Multiple R-squared:  0.6714,\tAdjusted R-squared:  0.6615 \n",
       "F-statistic: 67.44 on 1 and 33 DF,  p-value: 1.755e-09\n"
      ]
     },
     "metadata": {},
     "output_type": "display_data"
    }
   ],
   "source": [
    "res <- lm(gdp ~ internet_usage, data = temp)\n",
    "summary(res)"
   ]
  },
  {
   "cell_type": "markdown",
   "metadata": {},
   "source": [
    "Zamítáme H0 ve prospěch HA.<br>\n",
    "Očekáváme tedy, že mezi využitím internetu a HDP je nějaký vztah."
   ]
  },
  {
   "cell_type": "markdown",
   "metadata": {},
   "source": [
    "#### Dataframe na výdaje na různé sektory"
   ]
  },
  {
   "cell_type": "markdown",
   "metadata": {},
   "source": [
    "Postup je opět analogický..."
   ]
  },
  {
   "cell_type": "code",
   "execution_count": 247,
   "metadata": {
    "vscode": {
     "languageId": "r"
    }
   },
   "outputs": [
    {
     "name": "stderr",
     "output_type": "stream",
     "text": [
      "Dataset query already saved in cache_list.json...\n",
      "\n",
      "Reading cache file C:\\Users\\lukas\\AppData\\Local\\Temp\\RtmpUF0vQm/eurostat/5c4be52426ca58a707e4e3dd005f9058.rds\n",
      "\n",
      "Table  tsc00001  read from cache file:  C:\\Users\\lukas\\AppData\\Local\\Temp\\RtmpUF0vQm/eurostat/5c4be52426ca58a707e4e3dd005f9058.rds\n",
      "\n"
     ]
    }
   ],
   "source": [
    "dfSectors <- get_eurostat(\"tsc00001\")"
   ]
  },
  {
   "cell_type": "code",
   "execution_count": 248,
   "metadata": {
    "vscode": {
     "languageId": "r"
    }
   },
   "outputs": [],
   "source": [
    "dfSectors <- subset(dfSectors, format(as.Date(dfSectors$TIME_PERIOD), \"%Y\") == 2021)\n",
    "dfSectors <- dfSectors[dfSectors$sectperf == \"TOTAL\", ]"
   ]
  },
  {
   "cell_type": "code",
   "execution_count": 249,
   "metadata": {
    "vscode": {
     "languageId": "r"
    }
   },
   "outputs": [],
   "source": [
    "dfSectors$geo <- as.factor((dfSectors$geo))\n",
    "\n",
    "dfSectors <- dfSectors[-c(1,1:3)]\n",
    "dfSectors <- dfSectors[-c(2)]\n",
    "colnames(dfSectors) <- c(\"geo\", \"sectors_expenditure\")\n",
    "temp <- merge(df, dfSectors, by = \"geo\")\n"
   ]
  },
  {
   "cell_type": "code",
   "execution_count": 250,
   "metadata": {
    "vscode": {
     "languageId": "r"
    }
   },
   "outputs": [
    {
     "data": {
      "text/plain": [
       "   Min. 1st Qu.  Median    Mean 3rd Qu.    Max. \n",
       "  0.190   1.105   1.770   1.961   2.780   4.930 "
      ]
     },
     "metadata": {},
     "output_type": "display_data"
    }
   ],
   "source": [
    "summary(dfSectors$sectors_expenditure)"
   ]
  },
  {
   "cell_type": "code",
   "execution_count": 251,
   "metadata": {
    "vscode": {
     "languageId": "r"
    }
   },
   "outputs": [
    {
     "data": {
      "image/png": "[encoded data removed]",
      "text/plain": [
       "plot without title"
      ]
     },
     "metadata": {
      "image/png": {
       "height": 780,
       "width": 1200
      }
     },
     "output_type": "display_data"
    }
   ],
   "source": [
    "options(repr.plot.width = 20, repr.plot.height = 13)\n",
    "\n",
    "p2 <- ggplot(temp, aes(x = reorder(geo,-sectors_expenditure,sum), y = sectors_expenditure, fill = geo)) + geom_col() + ggtitle(\"Sectors expenditure per country in percentage\") + scale_y_continuous(breaks = scales::breaks_pretty(n = 15)) + labs(x = \"geo\")\n",
    "\n",
    "p2 <- p2 + theme( \n",
    "  plot.title = element_text(color=\"black\", size=20, face=\"bold.italic\"),\n",
    "  text = element_text(size = 15)\n",
    "\n",
    ")\n",
    "\n",
    "pg <- plot_grid(p2 + theme(legend.position = \"none\"),\n",
    "                nrow = 1)\n",
    "\n",
    "plot_grid(pg, rel_widths = c(2, .2))"
   ]
  },
  {
   "cell_type": "markdown",
   "metadata": {},
   "source": [
    "Otestujeme, jaká je lineární závislost mezi HDP a R&D. Položíme:<br>\n",
    "**H0:** Koeficient R&D je roven 0<br>\n",
    "**HA:** Koeficient R&D je nenulový"
   ]
  },
  {
   "cell_type": "code",
   "execution_count": 252,
   "metadata": {
    "vscode": {
     "languageId": "r"
    }
   },
   "outputs": [
    {
     "data": {
      "text/plain": [
       "\n",
       "Call:\n",
       "lm(formula = gdp ~ sectors_expenditure, data = temp)\n",
       "\n",
       "Residuals:\n",
       "   Min     1Q Median     3Q    Max \n",
       "-23390 -14380  -7326   3718  85304 \n",
       "\n",
       "Coefficients:\n",
       "                    Estimate Std. Error t value Pr(>|t|)  \n",
       "(Intercept)            15904       9468   1.680   0.1034  \n",
       "sectors_expenditure    11204       4705   2.381   0.0238 *\n",
       "---\n",
       "Signif. codes:  0 '***' 0.001 '**' 0.01 '*' 0.05 '.' 0.1 ' ' 1\n",
       "\n",
       "Residual standard error: 23800 on 30 degrees of freedom\n",
       "Multiple R-squared:  0.159,\tAdjusted R-squared:  0.1309 \n",
       "F-statistic: 5.671 on 1 and 30 DF,  p-value: 0.02379\n"
      ]
     },
     "metadata": {},
     "output_type": "display_data"
    }
   ],
   "source": [
    "res <- lm(gdp ~ sectors_expenditure, data = temp)\n",
    "summary(res)"
   ]
  },
  {
   "cell_type": "markdown",
   "metadata": {},
   "source": [
    "Zamítáme H0 ve prospěch HA.<br>\n",
    "Očekáváme tedy, že mezi R&D a HDP je nějaký vztah."
   ]
  },
  {
   "cell_type": "markdown",
   "metadata": {},
   "source": [
    "#### Spojení dataframů do df"
   ]
  },
  {
   "cell_type": "markdown",
   "metadata": {},
   "source": [
    "Pro účely zkoumání závislostí mezi regresory je spojíme do jednoho datasetu.<br>\n",
    "Před tím také převedeme politické zřízení na číselné hodnoty."
   ]
  },
  {
   "cell_type": "code",
   "execution_count": 253,
   "metadata": {},
   "outputs": [],
   "source": [
    "dfPoliticalSystem$system <- ifelse(dfPoliticalSystem$system == \"Republic\", 1, 0)"
   ]
  },
  {
   "cell_type": "code",
   "execution_count": 254,
   "metadata": {
    "vscode": {
     "languageId": "r"
    }
   },
   "outputs": [],
   "source": [
    "df <- merge(dfAge, df, by = \"geo\")\n",
    "df <- merge(dfPoliticalSystem, df, by = \"geo\")\n",
    "df <- merge(dfInternet, df, by = \"geo\")\n",
    "df <- merge(dfSectors, df, by = \"geo\")"
   ]
  },
  {
   "cell_type": "code",
   "execution_count": 255,
   "metadata": {
    "vscode": {
     "languageId": "r"
    }
   },
   "outputs": [
    {
     "data": {
      "text/html": [
       "<table class=\"dataframe\">\n",
       "<caption>A data.frame: 10 × 6</caption>\n",
       "<thead>\n",
       "\t<tr><th></th><th scope=col>geo</th><th scope=col>sectors_expenditure</th><th scope=col>internet_usage</th><th scope=col>system</th><th scope=col>life_expectancy</th><th scope=col>gdp</th></tr>\n",
       "\t<tr><th></th><th scope=col>&lt;fct&gt;</th><th scope=col>&lt;dbl&gt;</th><th scope=col>&lt;dbl&gt;</th><th scope=col>&lt;dbl&gt;</th><th scope=col>&lt;dbl&gt;</th><th scope=col>&lt;dbl&gt;</th></tr>\n",
       "</thead>\n",
       "<tbody>\n",
       "\t<tr><th scope=row>1</th><td>AT</td><td>3.26</td><td>92.53</td><td>1</td><td>81.3</td><td>45270</td></tr>\n",
       "\t<tr><th scope=row>2</th><td>BE</td><td>3.43</td><td>92.79</td><td>0</td><td>81.9</td><td>43850</td></tr>\n",
       "\t<tr><th scope=row>3</th><td>BG</td><td>0.77</td><td>75.27</td><td>1</td><td>71.4</td><td>10330</td></tr>\n",
       "\t<tr><th scope=row>4</th><td>CH</td><td>3.31</td><td>98.14</td><td>1</td><td>83.9</td><td>78990</td></tr>\n",
       "\t<tr><th scope=row>5</th><td>CY</td><td>0.80</td><td>90.76</td><td>1</td><td>81.3</td><td>27690</td></tr>\n",
       "\t<tr><th scope=row>6</th><td>CZ</td><td>2.00</td><td>88.85</td><td>1</td><td>77.2</td><td>22270</td></tr>\n",
       "\t<tr><th scope=row>7</th><td>DE</td><td>3.13</td><td>91.43</td><td>1</td><td>80.8</td><td>43480</td></tr>\n",
       "\t<tr><th scope=row>8</th><td>DK</td><td>2.76</td><td>98.89</td><td>0</td><td>81.5</td><td>58590</td></tr>\n",
       "\t<tr><th scope=row>9</th><td>EE</td><td>1.77</td><td>90.98</td><td>1</td><td>77.2</td><td>23430</td></tr>\n",
       "\t<tr><th scope=row>10</th><td>EL</td><td>1.46</td><td>78.49</td><td>1</td><td>80.2</td><td>17060</td></tr>\n",
       "</tbody>\n",
       "</table>\n"
      ],
      "text/latex": [
       "A data.frame: 10 × 6\n",
       "\\begin{tabular}{r|llllll}\n",
       "  & geo & sectors\\_expenditure & internet\\_usage & system & life\\_expectancy & gdp\\\\\n",
       "  & <fct> & <dbl> & <dbl> & <dbl> & <dbl> & <dbl>\\\\\n",
       "\\hline\n",
       "\t1 & AT & 3.26 & 92.53 & 1 & 81.3 & 45270\\\\\n",
       "\t2 & BE & 3.43 & 92.79 & 0 & 81.9 & 43850\\\\\n",
       "\t3 & BG & 0.77 & 75.27 & 1 & 71.4 & 10330\\\\\n",
       "\t4 & CH & 3.31 & 98.14 & 1 & 83.9 & 78990\\\\\n",
       "\t5 & CY & 0.80 & 90.76 & 1 & 81.3 & 27690\\\\\n",
       "\t6 & CZ & 2.00 & 88.85 & 1 & 77.2 & 22270\\\\\n",
       "\t7 & DE & 3.13 & 91.43 & 1 & 80.8 & 43480\\\\\n",
       "\t8 & DK & 2.76 & 98.89 & 0 & 81.5 & 58590\\\\\n",
       "\t9 & EE & 1.77 & 90.98 & 1 & 77.2 & 23430\\\\\n",
       "\t10 & EL & 1.46 & 78.49 & 1 & 80.2 & 17060\\\\\n",
       "\\end{tabular}\n"
      ],
      "text/markdown": [
       "\n",
       "A data.frame: 10 × 6\n",
       "\n",
       "| <!--/--> | geo &lt;fct&gt; | sectors_expenditure &lt;dbl&gt; | internet_usage &lt;dbl&gt; | system &lt;dbl&gt; | life_expectancy &lt;dbl&gt; | gdp &lt;dbl&gt; |\n",
       "|---|---|---|---|---|---|---|\n",
       "| 1 | AT | 3.26 | 92.53 | 1 | 81.3 | 45270 |\n",
       "| 2 | BE | 3.43 | 92.79 | 0 | 81.9 | 43850 |\n",
       "| 3 | BG | 0.77 | 75.27 | 1 | 71.4 | 10330 |\n",
       "| 4 | CH | 3.31 | 98.14 | 1 | 83.9 | 78990 |\n",
       "| 5 | CY | 0.80 | 90.76 | 1 | 81.3 | 27690 |\n",
       "| 6 | CZ | 2.00 | 88.85 | 1 | 77.2 | 22270 |\n",
       "| 7 | DE | 3.13 | 91.43 | 1 | 80.8 | 43480 |\n",
       "| 8 | DK | 2.76 | 98.89 | 0 | 81.5 | 58590 |\n",
       "| 9 | EE | 1.77 | 90.98 | 1 | 77.2 | 23430 |\n",
       "| 10 | EL | 1.46 | 78.49 | 1 | 80.2 | 17060 |\n",
       "\n"
      ],
      "text/plain": [
       "   geo sectors_expenditure internet_usage system life_expectancy gdp  \n",
       "1  AT  3.26                92.53          1      81.3            45270\n",
       "2  BE  3.43                92.79          0      81.9            43850\n",
       "3  BG  0.77                75.27          1      71.4            10330\n",
       "4  CH  3.31                98.14          1      83.9            78990\n",
       "5  CY  0.80                90.76          1      81.3            27690\n",
       "6  CZ  2.00                88.85          1      77.2            22270\n",
       "7  DE  3.13                91.43          1      80.8            43480\n",
       "8  DK  2.76                98.89          0      81.5            58590\n",
       "9  EE  1.77                90.98          1      77.2            23430\n",
       "10 EL  1.46                78.49          1      80.2            17060"
      ]
     },
     "metadata": {},
     "output_type": "display_data"
    }
   ],
   "source": [
    "head(df, 10)"
   ]
  },
  {
   "cell_type": "markdown",
   "metadata": {},
   "source": [
    "#### Zkoumání závislosti mezi regresory"
   ]
  },
  {
   "cell_type": "markdown",
   "metadata": {},
   "source": [
    "##### Numerická x Numerická"
   ]
  },
  {
   "cell_type": "markdown",
   "metadata": {},
   "source": [
    "Na všechna porovnání *Num x Num* využijeme spearmanův test. Položíme tedy:<br>\n",
    "**H0:** Korelační koeficient je roven 0<br>\n",
    "**HA:** Korelační koeficient je nenulový"
   ]
  },
  {
   "cell_type": "markdown",
   "metadata": {},
   "source": [
    "Spearmanův test jsme zvolili, neboť jeho užitím jsme se zbavili nutnosti ověřovat normalitu."
   ]
  },
  {
   "cell_type": "code",
   "execution_count": 256,
   "metadata": {
    "vscode": {
     "languageId": "r"
    }
   },
   "outputs": [
    {
     "name": "stderr",
     "output_type": "stream",
     "text": [
      "Warning message in cor.test.default(df$internet_usage, df$life_expectancy, method = \"spearman\"):\n",
      "\"Cannot compute exact p-value with ties\"\n"
     ]
    },
    {
     "data": {
      "text/plain": [
       "\n",
       "\tSpearman's rank correlation rho\n",
       "\n",
       "data:  df$internet_usage and df$life_expectancy\n",
       "S = 1508.7, p-value = 6.236e-05\n",
       "alternative hypothesis: true rho is not equal to 0\n",
       "sample estimates:\n",
       "      rho \n",
       "0.6643662 \n"
      ]
     },
     "metadata": {},
     "output_type": "display_data"
    }
   ],
   "source": [
    "cor.test(df$internet_usage, df$life_expectancy, method='spearman')"
   ]
  },
  {
   "cell_type": "markdown",
   "metadata": {},
   "source": [
    "Vzhledem k p-hodnotě se přikláníme k alternativě."
   ]
  },
  {
   "cell_type": "code",
   "execution_count": 257,
   "metadata": {
    "vscode": {
     "languageId": "r"
    }
   },
   "outputs": [
    {
     "name": "stderr",
     "output_type": "stream",
     "text": [
      "Warning message in cor.test.default(df$internet_usage, df$sectors_expenditure, method = \"spearman\"):\n",
      "\"Cannot compute exact p-value with ties\"\n"
     ]
    },
    {
     "data": {
      "text/plain": [
       "\n",
       "\tSpearman's rank correlation rho\n",
       "\n",
       "data:  df$internet_usage and df$sectors_expenditure\n",
       "S = 2214.7, p-value = 0.00422\n",
       "alternative hypothesis: true rho is not equal to 0\n",
       "sample estimates:\n",
       "      rho \n",
       "0.5072867 \n"
      ]
     },
     "metadata": {},
     "output_type": "display_data"
    }
   ],
   "source": [
    "cor.test(df$internet_usage, df$sectors_expenditure, method='spearman')"
   ]
  },
  {
   "cell_type": "markdown",
   "metadata": {},
   "source": [
    "Vzhledem k p-hodnotě se přikláníme k alternativě."
   ]
  },
  {
   "cell_type": "code",
   "execution_count": 258,
   "metadata": {
    "vscode": {
     "languageId": "r"
    }
   },
   "outputs": [
    {
     "name": "stderr",
     "output_type": "stream",
     "text": [
      "Warning message in cor.test.default(df$life_expectancy, df$sectors_expenditure, :\n",
      "\"Cannot compute exact p-value with ties\"\n"
     ]
    },
    {
     "data": {
      "text/plain": [
       "\n",
       "\tSpearman's rank correlation rho\n",
       "\n",
       "data:  df$life_expectancy and df$sectors_expenditure\n",
       "S = 2493.7, p-value = 0.01368\n",
       "alternative hypothesis: true rho is not equal to 0\n",
       "sample estimates:\n",
       "      rho \n",
       "0.4452239 \n"
      ]
     },
     "metadata": {},
     "output_type": "display_data"
    }
   ],
   "source": [
    "cor.test(df$life_expectancy, df$sectors_expenditure, method='spearman')"
   ]
  },
  {
   "cell_type": "markdown",
   "metadata": {},
   "source": [
    "Vzhledem k p-hodnotě se přikláníme k alternativě.<br>\n",
    "Z testů zároveň můžeme vyčíst odhady korelace. Korelace jsou ve všech případech pozitivní, nejvíce korelované jsou využití internetu a předpokládané dožití, nejméně pak dožití a R&D."
   ]
  },
  {
   "cell_type": "markdown",
   "metadata": {},
   "source": [
    "##### Numerická x Kategorická"
   ]
  },
  {
   "cell_type": "markdown",
   "metadata": {},
   "source": [
    "Na porovnání *Num x Kat* využijeme dříve zmíněný anova test. Položíme:<br>\n",
    "**H0:** Střední hodnoty jsou u všech kategorií stejné<br>\n",
    "**HA:** Střední hodnoty se neshodují"
   ]
  },
  {
   "cell_type": "code",
   "execution_count": 259,
   "metadata": {
    "vscode": {
     "languageId": "r"
    }
   },
   "outputs": [
    {
     "name": "stdout",
     "output_type": "stream",
     "text": [
      "The ANOVA (formula: internet_usage ~ system) suggests that:\n",
      "\n",
      "  - The main effect of system is statistically significant and large (F(1, 28) =\n",
      "9.63, p = 0.004; Eta2 = 0.26, 95% CI [0.06, 1.00])\n",
      "\n",
      "Effect sizes were labelled following Field's (2013) recommendations.\n"
     ]
    }
   ],
   "source": [
    "res_aov <- aov(internet_usage ~ system, data = df)\n",
    "print(report(res_aov))"
   ]
  },
  {
   "cell_type": "markdown",
   "metadata": {},
   "source": [
    "Vzhledem k p-hodnotě se přikláníme k alternativě.<br>\n",
    "Politické zřízení tak může ovlivnit využití internetu."
   ]
  },
  {
   "cell_type": "code",
   "execution_count": 260,
   "metadata": {
    "vscode": {
     "languageId": "r"
    }
   },
   "outputs": [
    {
     "name": "stdout",
     "output_type": "stream",
     "text": [
      "The ANOVA (formula: life_expectancy ~ system) suggests that:\n",
      "\n",
      "  - The main effect of system is statistically significant and large (F(1, 28) =\n",
      "5.85, p = 0.022; Eta2 = 0.17, 95% CI [0.01, 1.00])\n",
      "\n",
      "Effect sizes were labelled following Field's (2013) recommendations.\n"
     ]
    }
   ],
   "source": [
    "res_aov <- aov(life_expectancy ~ system, data = df)\n",
    "print(report(res_aov))"
   ]
  },
  {
   "cell_type": "markdown",
   "metadata": {},
   "source": [
    "Vzhledem k p-hodnotě se přikláníme k alternativě.<br>\n",
    "Politické zřízení tak může mít vliv na očekávané dožití."
   ]
  },
  {
   "cell_type": "code",
   "execution_count": 261,
   "metadata": {
    "vscode": {
     "languageId": "r"
    }
   },
   "outputs": [
    {
     "name": "stdout",
     "output_type": "stream",
     "text": [
      "The ANOVA (formula: sectors_expenditure ~ system) suggests that:\n",
      "\n",
      "  - The main effect of system is statistically not significant and medium (F(1,\n",
      "28) = 2.58, p = 0.119; Eta2 = 0.08, 95% CI [0.00, 1.00])\n",
      "\n",
      "Effect sizes were labelled following Field's (2013) recommendations.\n"
     ]
    }
   ],
   "source": [
    "res_aov <- aov(sectors_expenditure ~ system, data = df)\n",
    "print(report(res_aov))"
   ]
  },
  {
   "cell_type": "markdown",
   "metadata": {},
   "source": [
    "Vzhledem k p-hodnotě nezamítáme nulovou hypotézu.<br>\n",
    "Střední hodnoty nejsou významně různé, tím pádem R&D nemusí s politickým zřízením souviset."
   ]
  },
  {
   "cell_type": "markdown",
   "metadata": {},
   "source": [
    "### Úloha 3"
   ]
  },
  {
   "cell_type": "markdown",
   "metadata": {},
   "source": [
    "Vytvoříme jednoduchý regresní model, abychom prozkoumali závistlost HDP na všech regresorech."
   ]
  },
  {
   "cell_type": "code",
   "execution_count": 262,
   "metadata": {
    "vscode": {
     "languageId": "r"
    }
   },
   "outputs": [
    {
     "data": {
      "text/plain": [
       "\n",
       "Call:\n",
       "lm(formula = gdp ~ internet_usage + system + life_expectancy + \n",
       "    sectors_expenditure, data = df)\n",
       "\n",
       "Residuals:\n",
       "   Min     1Q Median     3Q    Max \n",
       "-34223  -7150  -1990   5970  41149 \n",
       "\n",
       "Coefficients:\n",
       "                     Estimate Std. Error t value Pr(>|t|)    \n",
       "(Intercept)         -350459.2    76503.5  -4.581  0.00011 ***\n",
       "internet_usage         2406.0      577.0   4.170  0.00032 ***\n",
       "system                -4607.3     7571.9  -0.608  0.54836    \n",
       "life_expectancy        2289.2      970.2   2.360  0.02641 *  \n",
       "sectors_expenditure   -4348.9     3713.7  -1.171  0.25262    \n",
       "---\n",
       "Signif. codes:  0 '***' 0.001 '**' 0.01 '*' 0.05 '.' 0.1 ' ' 1\n",
       "\n",
       "Residual standard error: 14910 on 25 degrees of freedom\n",
       "Multiple R-squared:  0.7001,\tAdjusted R-squared:  0.6521 \n",
       "F-statistic: 14.59 on 4 and 25 DF,  p-value: 2.832e-06\n"
      ]
     },
     "metadata": {},
     "output_type": "display_data"
    }
   ],
   "source": [
    "preFinal <- lm(gdp ~ internet_usage + system + life_expectancy + sectors_expenditure, data = df)\n",
    "summary(preFinal)"
   ]
  },
  {
   "cell_type": "markdown",
   "metadata": {},
   "source": [
    "Výsledek můžeme interpretovat následovně:<br>\n",
    "S rostoucím využitím internetu a rostoucím odhadovaným dožitím roste i HDP. Na druhou stranu čím více je v dané zemi investováno do vývoje, tím je HDP nižší. <br>\n",
    "Pokud je daný stát republika, očekáváme HDP o cca 4609 nižší, než kdyby byl monarchie (za stejných hodnot zbylých regresorů)."
   ]
  },
  {
   "cell_type": "markdown",
   "metadata": {},
   "source": [
    "Obě R hodnoty jsou poměrně vysoké, tedy se nejedná o vyloženě špatný model."
   ]
  },
  {
   "cell_type": "markdown",
   "metadata": {},
   "source": [
    "#### Zkoumání multikolinearity"
   ]
  },
  {
   "cell_type": "markdown",
   "metadata": {},
   "source": [
    "Pro prozkoumání multikolinearity sestavíme korelační tabulku.<br>\n",
    "Protože system je kategorický příznak, do tabulky jej nezahrneme."
   ]
  },
  {
   "cell_type": "code",
   "execution_count": 263,
   "metadata": {
    "vscode": {
     "languageId": "r"
    }
   },
   "outputs": [
    {
     "data": {
      "text/html": [
       "<table class=\"dataframe\">\n",
       "<caption>A matrix: 3 × 3 of type dbl</caption>\n",
       "<thead>\n",
       "\t<tr><th></th><th scope=col>sectors_expenditure</th><th scope=col>internet_usage</th><th scope=col>life_expectancy</th></tr>\n",
       "</thead>\n",
       "<tbody>\n",
       "\t<tr><th scope=row>sectors_expenditure</th><td>1.0000000</td><td>0.5116944</td><td>0.5374792</td></tr>\n",
       "\t<tr><th scope=row>internet_usage</th><td>0.5116944</td><td>1.0000000</td><td>0.5854162</td></tr>\n",
       "\t<tr><th scope=row>life_expectancy</th><td>0.5374792</td><td>0.5854162</td><td>1.0000000</td></tr>\n",
       "</tbody>\n",
       "</table>\n"
      ],
      "text/latex": [
       "A matrix: 3 × 3 of type dbl\n",
       "\\begin{tabular}{r|lll}\n",
       "  & sectors\\_expenditure & internet\\_usage & life\\_expectancy\\\\\n",
       "\\hline\n",
       "\tsectors\\_expenditure & 1.0000000 & 0.5116944 & 0.5374792\\\\\n",
       "\tinternet\\_usage & 0.5116944 & 1.0000000 & 0.5854162\\\\\n",
       "\tlife\\_expectancy & 0.5374792 & 0.5854162 & 1.0000000\\\\\n",
       "\\end{tabular}\n"
      ],
      "text/markdown": [
       "\n",
       "A matrix: 3 × 3 of type dbl\n",
       "\n",
       "| <!--/--> | sectors_expenditure | internet_usage | life_expectancy |\n",
       "|---|---|---|---|\n",
       "| sectors_expenditure | 1.0000000 | 0.5116944 | 0.5374792 |\n",
       "| internet_usage | 0.5116944 | 1.0000000 | 0.5854162 |\n",
       "| life_expectancy | 0.5374792 | 0.5854162 | 1.0000000 |\n",
       "\n"
      ],
      "text/plain": [
       "                    sectors_expenditure internet_usage life_expectancy\n",
       "sectors_expenditure 1.0000000           0.5116944      0.5374792      \n",
       "internet_usage      0.5116944           1.0000000      0.5854162      \n",
       "life_expectancy     0.5374792           0.5854162      1.0000000      "
      ]
     },
     "metadata": {},
     "output_type": "display_data"
    }
   ],
   "source": [
    "temp <- subset (df,select=-geo)\n",
    "temp <- subset (temp,select=-gdp)\n",
    "temp <- subset (temp,select=-system)\n",
    "cor (temp)"
   ]
  },
  {
   "cell_type": "markdown",
   "metadata": {},
   "source": [
    "Korelace je zde patrná, provedeme ještě ověření pomocí faktoru zvětšení rozptylu."
   ]
  },
  {
   "cell_type": "code",
   "execution_count": 264,
   "metadata": {
    "vscode": {
     "languageId": "r"
    }
   },
   "outputs": [
    {
     "name": "stdout",
     "output_type": "stream",
     "text": [
      "     internet_usage              system     life_expectancy sectors_expenditure \n",
      "              1.886               1.385               1.771               1.534 \n"
     ]
    }
   ],
   "source": [
    "print(round(vif(preFinal), 3))"
   ]
  },
  {
   "cell_type": "markdown",
   "metadata": {},
   "source": [
    "Regresory s koef. vyšším, než 5 je vhodné z modelu odstranit.<br>\n",
    "To v našem případě žádný regresor nesplňuje, ponecháme je proto všechny."
   ]
  },
  {
   "cell_type": "markdown",
   "metadata": {},
   "source": [
    "#### Identifikace odlehlých pozorování"
   ]
  },
  {
   "cell_type": "code",
   "execution_count": 265,
   "metadata": {
    "vscode": {
     "languageId": "r"
    }
   },
   "outputs": [
    {
     "data": {
      "image/png": "[encoded data removed]",
      "text/plain": [
       "Plot with title \"\""
      ]
     },
     "metadata": {
      "image/png": {
       "height": 780,
       "width": 1200
      }
     },
     "output_type": "display_data"
    }
   ],
   "source": [
    "par(mfrow=c(2,2))\n",
    "plot(preFinal)"
   ]
  },
  {
   "cell_type": "markdown",
   "metadata": {},
   "source": [
    "Je zřejmé, že některá pozorování jsou odlehlá, zkusíme tedy aplikovat model robustní regrese se specifikovanou Huberovou funkcí. "
   ]
  },
  {
   "cell_type": "code",
   "execution_count": 266,
   "metadata": {
    "vscode": {
     "languageId": "r"
    }
   },
   "outputs": [
    {
     "name": "stderr",
     "output_type": "stream",
     "text": [
      "Warning message in rlm.default(x, y, weights, method = method, wt.method = wt.method, :\n",
      "\"'rlm' failed to converge in 20 steps\"\n"
     ]
    },
    {
     "data": {
      "text/plain": [
       "\n",
       "Call: rlm(formula = gdp ~ internet_usage + system + life_expectancy + \n",
       "    sectors_expenditure, data = df, psi = psi.huber)\n",
       "Residuals:\n",
       "   Min     1Q Median     3Q    Max \n",
       "-28797  -5298  -1193   4599  50170 \n",
       "\n",
       "Coefficients:\n",
       "                    Value        Std. Error   t value     \n",
       "(Intercept)         -302588.6648   49735.8961      -6.0839\n",
       "internet_usage         1890.7608     375.1255       5.0403\n",
       "system                -5059.2871    4922.5848      -1.0278\n",
       "life_expectancy        2174.7766     630.7123       3.4481\n",
       "sectors_expenditure   -1075.1890    2414.2988      -0.4453\n",
       "\n",
       "Residual standard error: 7650 on 25 degrees of freedom"
      ]
     },
     "metadata": {},
     "output_type": "display_data"
    }
   ],
   "source": [
    "final_rlm = rlm(gdp ~ internet_usage + system + life_expectancy + sectors_expenditure, data = df, psi = psi.huber)\n",
    "summary(final_rlm)"
   ]
  },
  {
   "cell_type": "markdown",
   "metadata": {},
   "source": [
    "Pro ověření ještě zjistíme signifikanci jednotlivých regresorů. S využitím Robustního f testu. Položíme:<br>\n",
    "**H0:** Regresor je roven 0. <br />\n",
    "**HA:** Regresor není roven 0."
   ]
  },
  {
   "cell_type": "code",
   "execution_count": 267,
   "metadata": {
    "vscode": {
     "languageId": "r"
    }
   },
   "outputs": [
    {
     "data": {
      "text/plain": [
       "\n",
       "\trobust F-test (as if non-random weights)\n",
       "\n",
       "data:  from rlm(formula = gdp ~ internet_usage + system + life_expectancy + from     sectors_expenditure, data = df, psi = psi.huber)\n",
       "F = 22.932, p-value = 6.443e-05\n",
       "alternative hypothesis: true internet_usage is not equal to 0\n"
      ]
     },
     "metadata": {},
     "output_type": "display_data"
    }
   ],
   "source": [
    "f.robftest(final_rlm, var = \"internet_usage\")"
   ]
  },
  {
   "cell_type": "markdown",
   "metadata": {},
   "source": [
    "Na základě p-hodnoty se přikláníme k alternativě.<br>\n",
    "To znamená, že regresor ponecháme."
   ]
  },
  {
   "cell_type": "code",
   "execution_count": 268,
   "metadata": {
    "vscode": {
     "languageId": "r"
    }
   },
   "outputs": [
    {
     "data": {
      "text/plain": [
       "\n",
       "\trobust F-test (as if non-random weights)\n",
       "\n",
       "data:  from rlm(formula = gdp ~ internet_usage + system + life_expectancy + from     sectors_expenditure, data = df, psi = psi.huber)\n",
       "F = 0.92089, p-value = 0.3464\n",
       "alternative hypothesis: true system is not equal to 0\n"
      ]
     },
     "metadata": {},
     "output_type": "display_data"
    }
   ],
   "source": [
    "f.robftest(final_rlm, var = \"system\")"
   ]
  },
  {
   "cell_type": "markdown",
   "metadata": {},
   "source": [
    "Na základě p-hodnoty nezamítáme nulovou hypotézu.<br>\n",
    "Regresor tedy vynecháme."
   ]
  },
  {
   "cell_type": "code",
   "execution_count": 269,
   "metadata": {
    "vscode": {
     "languageId": "r"
    }
   },
   "outputs": [
    {
     "data": {
      "text/plain": [
       "\n",
       "\trobust F-test (as if non-random weights)\n",
       "\n",
       "data:  from rlm(formula = gdp ~ internet_usage + system + life_expectancy + from     sectors_expenditure, data = df, psi = psi.huber)\n",
       "F = 12.032, p-value = 0.00191\n",
       "alternative hypothesis: true life_expectancy is not equal to 0\n"
      ]
     },
     "metadata": {},
     "output_type": "display_data"
    }
   ],
   "source": [
    "f.robftest(final_rlm, var = \"life_expectancy\")"
   ]
  },
  {
   "cell_type": "markdown",
   "metadata": {},
   "source": [
    "Na základě p-hodnoty se přikláníme k alternativě.<br>\n",
    "To znamená, že regresor ponecháme."
   ]
  },
  {
   "cell_type": "code",
   "execution_count": 270,
   "metadata": {
    "vscode": {
     "languageId": "r"
    }
   },
   "outputs": [
    {
     "data": {
      "text/plain": [
       "\n",
       "\trobust F-test (as if non-random weights)\n",
       "\n",
       "data:  from rlm(formula = gdp ~ internet_usage + system + life_expectancy + from     sectors_expenditure, data = df, psi = psi.huber)\n",
       "F = 0.1594, p-value = 0.6931\n",
       "alternative hypothesis: true sectors_expenditure is not equal to 0\n"
      ]
     },
     "metadata": {},
     "output_type": "display_data"
    }
   ],
   "source": [
    "f.robftest(final_rlm, var = \"sectors_expenditure\")"
   ]
  },
  {
   "cell_type": "markdown",
   "metadata": {},
   "source": [
    "Na základě p-hodnoty nezamítáme nulovou hypotézu.<br>\n",
    "Regresor tedy vynecháme."
   ]
  },
  {
   "cell_type": "markdown",
   "metadata": {},
   "source": [
    "#### Výběr finálního modelu"
   ]
  },
  {
   "cell_type": "markdown",
   "metadata": {},
   "source": [
    "Hledáme ideální, který HDP dobře popisuje a zároveň neobsahuje nepotřebné komponenty.<br>\n",
    "Využijeme sekvenční výběr."
   ]
  },
  {
   "cell_type": "code",
   "execution_count": 271,
   "metadata": {
    "vscode": {
     "languageId": "r"
    }
   },
   "outputs": [
    {
     "name": "stdout",
     "output_type": "stream",
     "text": [
      "Start:  AIC=609.23\n",
      "gdp ~ 1\n",
      "\n",
      "                      Df  Sum of Sq        RSS    AIC\n",
      "+ internet_usage       1 1.1471e+10 7.0483e+09 582.25\n",
      "+ life_expectancy      1 8.0283e+09 1.0491e+10 594.18\n",
      "+ system               1 4.4934e+09 1.4026e+10 602.89\n",
      "+ sectors_expenditure  1 2.5322e+09 1.5987e+10 606.82\n",
      "<none>                              1.8520e+10 609.23\n",
      "\n",
      "Step:  AIC=582.25\n",
      "gdp ~ internet_usage\n",
      "\n",
      "                      Df  Sum of Sq        RSS    AIC\n",
      "+ life_expectancy      1 1.1009e+09 5.9473e+09 579.15\n",
      "<none>                              7.0483e+09 582.25\n",
      "+ system               1 2.2187e+08 6.8264e+09 583.29\n",
      "+ sectors_expenditure  1 2.7231e+07 7.0210e+09 584.13\n",
      "- internet_usage       1 1.1471e+10 1.8520e+10 609.23\n",
      "\n",
      "Step:  AIC=579.15\n",
      "gdp ~ internet_usage + life_expectancy\n",
      "\n",
      "                                 Df  Sum of Sq        RSS    AIC\n",
      "+ internet_usage:life_expectancy  1 1371575542 4.5758e+09 573.29\n",
      "<none>                                         5.9473e+09 579.15\n",
      "+ sectors_expenditure             1  310146023 5.6372e+09 579.54\n",
      "+ system                          1   87696918 5.8596e+09 580.70\n",
      "- life_expectancy                 1 1100921818 7.0483e+09 582.25\n",
      "- internet_usage                  1 4543920218 1.0491e+10 594.18\n",
      "\n",
      "Step:  AIC=573.29\n",
      "gdp ~ internet_usage + life_expectancy + internet_usage:life_expectancy\n",
      "\n",
      "                                 Df  Sum of Sq        RSS    AIC\n",
      "+ sectors_expenditure             1  379933771 4195832907 572.68\n",
      "<none>                                         4575766678 573.29\n",
      "+ system                          1    1324998 4574441680 575.28\n",
      "- internet_usage:life_expectancy  1 1371575542 5947342220 579.15\n",
      "\n",
      "Step:  AIC=572.68\n",
      "gdp ~ internet_usage + life_expectancy + sectors_expenditure + \n",
      "    internet_usage:life_expectancy\n",
      "\n",
      "                                      Df  Sum of Sq        RSS    AIC\n",
      "+ internet_usage:sectors_expenditure   1  414120276 3781712631 571.57\n",
      "<none>                                              4195832907 572.68\n",
      "- sectors_expenditure                  1  379933771 4575766678 573.29\n",
      "+ life_expectancy:sectors_expenditure  1   26329466 4169503441 574.50\n",
      "+ system                               1     350126 4195482781 574.68\n",
      "- internet_usage:life_expectancy       1 1441363290 5637196197 579.54\n",
      "\n",
      "Step:  AIC=571.57\n",
      "gdp ~ internet_usage + life_expectancy + sectors_expenditure + \n",
      "    internet_usage:life_expectancy + internet_usage:sectors_expenditure\n",
      "\n",
      "                                      Df  Sum of Sq        RSS    AIC\n",
      "<none>                                              3781712631 571.57\n",
      "- internet_usage:sectors_expenditure   1  414120276 4195832907 572.68\n",
      "+ life_expectancy:sectors_expenditure  1   95768344 3685944287 572.80\n",
      "+ system                               1    1903980 3779808651 573.55\n",
      "- internet_usage:life_expectancy       1 1758141580 5539854211 581.02\n"
     ]
    }
   ],
   "source": [
    "final <- step(lm(gdp~1,data=df), scope=list(lower=~1,upper=~internet_usage * life_expectancy * system * sectors_expenditure), data=df)"
   ]
  },
  {
   "cell_type": "code",
   "execution_count": 272,
   "metadata": {
    "vscode": {
     "languageId": "r"
    }
   },
   "outputs": [
    {
     "data": {
      "text/plain": [
       "\n",
       "Call:\n",
       "lm(formula = gdp ~ internet_usage + life_expectancy + sectors_expenditure + \n",
       "    internet_usage:life_expectancy + internet_usage:sectors_expenditure, \n",
       "    data = df)\n",
       "\n",
       "Residuals:\n",
       "   Min     1Q Median     3Q    Max \n",
       "-36689  -3641    350   4071  31461 \n",
       "\n",
       "Coefficients:\n",
       "                                    Estimate Std. Error t value Pr(>|t|)   \n",
       "(Intercept)                        2485906.7   844751.9   2.943  0.00711 **\n",
       "internet_usage                      -30123.8     9620.2  -3.131  0.00453 **\n",
       "life_expectancy                     -35456.1    11402.3  -3.110  0.00478 **\n",
       "sectors_expenditure                 110701.9    71353.3   1.551  0.13388   \n",
       "internet_usage:life_expectancy         430.4      128.8   3.340  0.00273 **\n",
       "internet_usage:sectors_expenditure   -1235.8      762.3  -1.621  0.11805   \n",
       "---\n",
       "Signif. codes:  0 '***' 0.001 '**' 0.01 '*' 0.05 '.' 0.1 ' ' 1\n",
       "\n",
       "Residual standard error: 12550 on 24 degrees of freedom\n",
       "Multiple R-squared:  0.7958,\tAdjusted R-squared:  0.7533 \n",
       "F-statistic: 18.71 on 5 and 24 DF,  p-value: 1.394e-07\n"
      ]
     },
     "metadata": {},
     "output_type": "display_data"
    }
   ],
   "source": [
    "summary(final)"
   ]
  },
  {
   "cell_type": "markdown",
   "metadata": {},
   "source": [
    "Na základě p-hodnoty testu o nenulovosti vyřadíme sectors_expenditure."
   ]
  },
  {
   "cell_type": "code",
   "execution_count": 273,
   "metadata": {
    "vscode": {
     "languageId": "r"
    }
   },
   "outputs": [
    {
     "name": "stdout",
     "output_type": "stream",
     "text": [
      "Start:  AIC=609.23\n",
      "gdp ~ 1\n",
      "\n",
      "                  Df  Sum of Sq        RSS    AIC\n",
      "+ internet_usage   1 1.1471e+10 7.0483e+09 582.25\n",
      "+ life_expectancy  1 8.0283e+09 1.0491e+10 594.18\n",
      "+ system           1 4.4934e+09 1.4026e+10 602.89\n",
      "<none>                          1.8520e+10 609.23\n",
      "\n",
      "Step:  AIC=582.25\n",
      "gdp ~ internet_usage\n",
      "\n",
      "                  Df  Sum of Sq        RSS    AIC\n",
      "+ life_expectancy  1 1.1009e+09 5.9473e+09 579.15\n",
      "<none>                          7.0483e+09 582.25\n",
      "+ system           1 2.2187e+08 6.8264e+09 583.29\n",
      "- internet_usage   1 1.1471e+10 1.8520e+10 609.23\n",
      "\n",
      "Step:  AIC=579.15\n",
      "gdp ~ internet_usage + life_expectancy\n",
      "\n",
      "                                 Df  Sum of Sq        RSS    AIC\n",
      "+ internet_usage:life_expectancy  1 1371575542 4.5758e+09 573.29\n",
      "<none>                                         5.9473e+09 579.15\n",
      "+ system                          1   87696918 5.8596e+09 580.70\n",
      "- life_expectancy                 1 1100921818 7.0483e+09 582.25\n",
      "- internet_usage                  1 4543920218 1.0491e+10 594.18\n",
      "\n",
      "Step:  AIC=573.29\n",
      "gdp ~ internet_usage + life_expectancy + internet_usage:life_expectancy\n",
      "\n",
      "                                 Df  Sum of Sq        RSS    AIC\n",
      "<none>                                         4575766678 573.29\n",
      "+ system                          1    1324998 4574441680 575.28\n",
      "- internet_usage:life_expectancy  1 1371575542 5947342220 579.15\n"
     ]
    }
   ],
   "source": [
    "final <- step(lm(gdp~1,data=df), scope=list(lower=~1,upper=~internet_usage * life_expectancy * system),data=df, direction=\"both\")"
   ]
  },
  {
   "cell_type": "code",
   "execution_count": 274,
   "metadata": {
    "vscode": {
     "languageId": "r"
    }
   },
   "outputs": [
    {
     "data": {
      "text/plain": [
       "\n",
       "Call:\n",
       "lm(formula = gdp ~ internet_usage + life_expectancy + internet_usage:life_expectancy, \n",
       "    data = df)\n",
       "\n",
       "Residuals:\n",
       "   Min     1Q Median     3Q    Max \n",
       "-29875  -4036   -721   3653  45161 \n",
       "\n",
       "Coefficients:\n",
       "                                Estimate Std. Error t value Pr(>|t|)   \n",
       "(Intercept)                    1655793.7   714444.5   2.318   0.0286 * \n",
       "internet_usage                  -20518.3     8202.3  -2.502   0.0190 * \n",
       "life_expectancy                 -22806.3     8922.3  -2.556   0.0168 * \n",
       "internet_usage:life_expectancy     284.6      102.0   2.792   0.0097 **\n",
       "---\n",
       "Signif. codes:  0 '***' 0.001 '**' 0.01 '*' 0.05 '.' 0.1 ' ' 1\n",
       "\n",
       "Residual standard error: 13270 on 26 degrees of freedom\n",
       "Multiple R-squared:  0.7529,\tAdjusted R-squared:  0.7244 \n",
       "F-statistic: 26.41 on 3 and 26 DF,  p-value: 4.697e-08\n"
      ]
     },
     "metadata": {},
     "output_type": "display_data"
    }
   ],
   "source": [
    "summary(final)"
   ]
  },
  {
   "cell_type": "markdown",
   "metadata": {},
   "source": [
    "Finální model užívá internet_usage a life_expectancy a jejich interakci.<br>\n",
    "To se zároveň shoduje s poznatky předchozí robustní analýzy."
   ]
  }
 ],
 "metadata": {
  "kernelspec": {
   "display_name": "R",
   "language": "R",
   "name": "ir"
  },
  "language_info": {
   "codemirror_mode": "r",
   "file_extension": ".r",
   "mimetype": "text/x-r-source",
   "name": "R",
   "pygments_lexer": "r",
   "version": "4.4.0"
  }
 },
 "nbformat": 4,
 "nbformat_minor": 4
}
